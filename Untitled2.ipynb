{
 "cells": [
  {
   "cell_type": "code",
   "execution_count": 57,
   "id": "c417d901",
   "metadata": {},
   "outputs": [
    {
     "name": "stdout",
     "output_type": "stream",
     "text": [
      "Requirement already satisfied: seaborn in ./anaconda3/lib/python3.11/site-packages (0.12.2)\n",
      "Collecting seaborn\n",
      "  Obtaining dependency information for seaborn from https://files.pythonhosted.org/packages/83/11/00d3c3dfc25ad54e731d91449895a79e4bf2384dc3ac01809010ba88f6d5/seaborn-0.13.2-py3-none-any.whl.metadata\n",
      "  Downloading seaborn-0.13.2-py3-none-any.whl.metadata (5.4 kB)\n",
      "Requirement already satisfied: numpy!=1.24.0,>=1.20 in ./anaconda3/lib/python3.11/site-packages (from seaborn) (1.24.3)\n",
      "Requirement already satisfied: pandas>=1.2 in ./anaconda3/lib/python3.11/site-packages (from seaborn) (2.1.1)\n",
      "Requirement already satisfied: matplotlib!=3.6.1,>=3.4 in ./anaconda3/lib/python3.11/site-packages (from seaborn) (3.7.2)\n",
      "Requirement already satisfied: contourpy>=1.0.1 in ./anaconda3/lib/python3.11/site-packages (from matplotlib!=3.6.1,>=3.4->seaborn) (1.0.5)\n",
      "Requirement already satisfied: cycler>=0.10 in ./anaconda3/lib/python3.11/site-packages (from matplotlib!=3.6.1,>=3.4->seaborn) (0.11.0)\n",
      "Requirement already satisfied: fonttools>=4.22.0 in ./anaconda3/lib/python3.11/site-packages (from matplotlib!=3.6.1,>=3.4->seaborn) (4.25.0)\n",
      "Requirement already satisfied: kiwisolver>=1.0.1 in ./anaconda3/lib/python3.11/site-packages (from matplotlib!=3.6.1,>=3.4->seaborn) (1.4.4)\n",
      "Requirement already satisfied: packaging>=20.0 in ./anaconda3/lib/python3.11/site-packages (from matplotlib!=3.6.1,>=3.4->seaborn) (23.1)\n",
      "Requirement already satisfied: pillow>=6.2.0 in ./anaconda3/lib/python3.11/site-packages (from matplotlib!=3.6.1,>=3.4->seaborn) (9.4.0)\n",
      "Requirement already satisfied: pyparsing<3.1,>=2.3.1 in ./anaconda3/lib/python3.11/site-packages (from matplotlib!=3.6.1,>=3.4->seaborn) (3.0.9)\n",
      "Requirement already satisfied: python-dateutil>=2.7 in ./anaconda3/lib/python3.11/site-packages (from matplotlib!=3.6.1,>=3.4->seaborn) (2.8.2)\n",
      "Requirement already satisfied: pytz>=2020.1 in ./anaconda3/lib/python3.11/site-packages (from pandas>=1.2->seaborn) (2023.3.post1)\n",
      "Requirement already satisfied: tzdata>=2022.1 in ./anaconda3/lib/python3.11/site-packages (from pandas>=1.2->seaborn) (2023.3)\n",
      "Requirement already satisfied: six>=1.5 in ./anaconda3/lib/python3.11/site-packages (from python-dateutil>=2.7->matplotlib!=3.6.1,>=3.4->seaborn) (1.16.0)\n",
      "Downloading seaborn-0.13.2-py3-none-any.whl (294 kB)\n",
      "\u001b[2K   \u001b[90m━━━━━━━━━━━━━━━━━━━━━━━━━━━━━━━━━━━━━━━\u001b[0m \u001b[32m294.9/294.9 kB\u001b[0m \u001b[31m972.4 kB/s\u001b[0m eta \u001b[36m0:00:00\u001b[0m \u001b[36m0:00:01\u001b[0mm\n",
      "\u001b[?25hInstalling collected packages: seaborn\n",
      "  Attempting uninstall: seaborn\n",
      "    Found existing installation: seaborn 0.12.2\n",
      "    Uninstalling seaborn-0.12.2:\n",
      "      Successfully uninstalled seaborn-0.12.2\n",
      "Successfully installed seaborn-0.13.2\n"
     ]
    }
   ],
   "source": [
    "import pandas as pd\n",
    "from sklearn.model_selection import train_test_split\n",
    "from sklearn.linear_model import LogisticRegression\n",
    "from sklearn.preprocessing import LabelEncoder\n",
    "from sklearn import metrics\n",
    "import seaborn as sn\n",
    "import matplotlib.pyplot as plt\n",
    "!pip install --upgrade seaborn\n",
    "\n"
   ]
  },
  {
   "cell_type": "code",
   "execution_count": 42,
   "id": "ccaa68e6",
   "metadata": {
    "scrolled": false
   },
   "outputs": [
    {
     "data": {
      "text/html": [
       "<div>\n",
       "<style scoped>\n",
       "    .dataframe tbody tr th:only-of-type {\n",
       "        vertical-align: middle;\n",
       "    }\n",
       "\n",
       "    .dataframe tbody tr th {\n",
       "        vertical-align: top;\n",
       "    }\n",
       "\n",
       "    .dataframe thead th {\n",
       "        text-align: right;\n",
       "    }\n",
       "</style>\n",
       "<table border=\"1\" class=\"dataframe\">\n",
       "  <thead>\n",
       "    <tr style=\"text-align: right;\">\n",
       "      <th></th>\n",
       "      <th>User ID</th>\n",
       "      <th>Username</th>\n",
       "      <th>Platform</th>\n",
       "      <th>Post ID</th>\n",
       "      <th>Post Text</th>\n",
       "      <th>Post Timestamp</th>\n",
       "      <th>Likes/Reactions</th>\n",
       "      <th>Comments</th>\n",
       "      <th>Shares/Retweets</th>\n",
       "      <th>Hashtags</th>\n",
       "      <th>...</th>\n",
       "      <th>Account Creation Date</th>\n",
       "      <th>Account Verification</th>\n",
       "      <th>User Engagement</th>\n",
       "      <th>User Interactions</th>\n",
       "      <th>User Activity</th>\n",
       "      <th>User Bio</th>\n",
       "      <th>User Description 1</th>\n",
       "      <th>User Description 2</th>\n",
       "      <th>Server Post</th>\n",
       "      <th>User Language</th>\n",
       "    </tr>\n",
       "  </thead>\n",
       "  <tbody>\n",
       "    <tr>\n",
       "      <th>0</th>\n",
       "      <td>101</td>\n",
       "      <td>@adventureSeeker</td>\n",
       "      <td>Instagram</td>\n",
       "      <td>82036</td>\n",
       "      <td>\"Experiencing the thrill of a lifetime! #Adven...</td>\n",
       "      <td>30-07-2023 14:45</td>\n",
       "      <td>1500</td>\n",
       "      <td>250</td>\n",
       "      <td>120</td>\n",
       "      <td>#AdventureTime</td>\n",
       "      <td>...</td>\n",
       "      <td>10-05-2019</td>\n",
       "      <td>Verified</td>\n",
       "      <td>1870</td>\n",
       "      <td>15700</td>\n",
       "      <td>3 posts per week</td>\n",
       "      <td>Adventure enthusiast</td>\n",
       "      <td>Nature lover</td>\n",
       "      <td>Seeker of wanderlust ??</td>\n",
       "      <td>California, USA</td>\n",
       "      <td>English</td>\n",
       "    </tr>\n",
       "    <tr>\n",
       "      <th>1</th>\n",
       "      <td>215</td>\n",
       "      <td>@foodieTraveler</td>\n",
       "      <td>Twitter</td>\n",
       "      <td>12463</td>\n",
       "      <td>\"Indulging in local delicacies! #FoodieTravels\"</td>\n",
       "      <td>30-07-2023 19:30</td>\n",
       "      <td>850</td>\n",
       "      <td>70</td>\n",
       "      <td>50</td>\n",
       "      <td>#FoodieTravels</td>\n",
       "      <td>...</td>\n",
       "      <td>15-09-2017</td>\n",
       "      <td>Not verified</td>\n",
       "      <td>970</td>\n",
       "      <td>8300</td>\n",
       "      <td>5 posts per week</td>\n",
       "      <td>Culinary explorer</td>\n",
       "      <td>Street food connoisseur</td>\n",
       "      <td>Travel addict ??</td>\n",
       "      <td>London, UK</td>\n",
       "      <td>English</td>\n",
       "    </tr>\n",
       "    <tr>\n",
       "      <th>2</th>\n",
       "      <td>303</td>\n",
       "      <td>@wellnessJourney</td>\n",
       "      <td>Facebook</td>\n",
       "      <td>45982</td>\n",
       "      <td>\"Finding peace and balance in nature!</td>\n",
       "      <td>30-07-2023 08:15</td>\n",
       "      <td>680</td>\n",
       "      <td>80</td>\n",
       "      <td>40</td>\n",
       "      <td>#WellnessJourney</td>\n",
       "      <td>...</td>\n",
       "      <td>02-03-2020</td>\n",
       "      <td>Not verified</td>\n",
       "      <td>800</td>\n",
       "      <td>6200</td>\n",
       "      <td>2 posts per week</td>\n",
       "      <td>Wellness enthusiast</td>\n",
       "      <td>Yogi in training</td>\n",
       "      <td>Mindfulness advocate</td>\n",
       "      <td>San Francisco, USA</td>\n",
       "      <td>English</td>\n",
       "    </tr>\n",
       "    <tr>\n",
       "      <th>3</th>\n",
       "      <td>404</td>\n",
       "      <td>@fitnessFreak</td>\n",
       "      <td>Instagram</td>\n",
       "      <td>16572</td>\n",
       "      <td>\"Pushing my limits in the gym!</td>\n",
       "      <td>30-07-2023 12:30</td>\n",
       "      <td>1850</td>\n",
       "      <td>350</td>\n",
       "      <td>180</td>\n",
       "      <td>#FitnessGoals</td>\n",
       "      <td>...</td>\n",
       "      <td>12-08-2016</td>\n",
       "      <td>Verified</td>\n",
       "      <td>2380</td>\n",
       "      <td>32750</td>\n",
       "      <td>4 posts per week</td>\n",
       "      <td>Fitness enthusiast</td>\n",
       "      <td>Health is wealth</td>\n",
       "      <td>Workout addict</td>\n",
       "      <td>Los Angeles, USA</td>\n",
       "      <td>English</td>\n",
       "    </tr>\n",
       "    <tr>\n",
       "      <th>4</th>\n",
       "      <td>521</td>\n",
       "      <td>@foodExplorer</td>\n",
       "      <td>Twitter</td>\n",
       "      <td>75589</td>\n",
       "      <td>\"Discovering unique flavors around the world!</td>\n",
       "      <td>30-07-2023 16:20</td>\n",
       "      <td>950</td>\n",
       "      <td>80</td>\n",
       "      <td>60</td>\n",
       "      <td>#Foodies</td>\n",
       "      <td>...</td>\n",
       "      <td>28-02-2018</td>\n",
       "      <td>Not verified</td>\n",
       "      <td>1090</td>\n",
       "      <td>9080</td>\n",
       "      <td>3 posts per week</td>\n",
       "      <td>Culinary adventurer</td>\n",
       "      <td>Gastronomic traveler</td>\n",
       "      <td>Bon app?it!</td>\n",
       "      <td>Paris, France</td>\n",
       "      <td>English</td>\n",
       "    </tr>\n",
       "  </tbody>\n",
       "</table>\n",
       "<p>5 rows × 28 columns</p>\n",
       "</div>"
      ],
      "text/plain": [
       "   User ID          Username   Platform  Post ID  \\\n",
       "0      101  @adventureSeeker  Instagram    82036   \n",
       "1      215   @foodieTraveler    Twitter    12463   \n",
       "2      303  @wellnessJourney   Facebook    45982   \n",
       "3      404     @fitnessFreak  Instagram    16572   \n",
       "4      521     @foodExplorer    Twitter    75589   \n",
       "\n",
       "                                           Post Text    Post Timestamp  \\\n",
       "0  \"Experiencing the thrill of a lifetime! #Adven...  30-07-2023 14:45   \n",
       "1    \"Indulging in local delicacies! #FoodieTravels\"  30-07-2023 19:30   \n",
       "2              \"Finding peace and balance in nature!  30-07-2023 08:15   \n",
       "3                     \"Pushing my limits in the gym!  30-07-2023 12:30   \n",
       "4      \"Discovering unique flavors around the world!  30-07-2023 16:20   \n",
       "\n",
       "   Likes/Reactions  Comments  Shares/Retweets          Hashtags  ...  \\\n",
       "0             1500       250              120    #AdventureTime  ...   \n",
       "1              850        70               50    #FoodieTravels  ...   \n",
       "2              680        80               40  #WellnessJourney  ...   \n",
       "3             1850       350              180     #FitnessGoals  ...   \n",
       "4              950        80               60          #Foodies  ...   \n",
       "\n",
       "   Account Creation Date Account Verification User Engagement  \\\n",
       "0             10-05-2019             Verified            1870   \n",
       "1             15-09-2017         Not verified             970   \n",
       "2             02-03-2020         Not verified             800   \n",
       "3             12-08-2016             Verified            2380   \n",
       "4             28-02-2018         Not verified            1090   \n",
       "\n",
       "  User Interactions     User Activity              User Bio  \\\n",
       "0             15700  3 posts per week  Adventure enthusiast   \n",
       "1              8300  5 posts per week     Culinary explorer   \n",
       "2              6200  2 posts per week   Wellness enthusiast   \n",
       "3             32750  4 posts per week    Fitness enthusiast   \n",
       "4              9080  3 posts per week   Culinary adventurer   \n",
       "\n",
       "        User Description 1       User Description 2         Server Post  \\\n",
       "0             Nature lover  Seeker of wanderlust ??     California, USA   \n",
       "1  Street food connoisseur         Travel addict ??          London, UK   \n",
       "2         Yogi in training     Mindfulness advocate  San Francisco, USA   \n",
       "3         Health is wealth           Workout addict    Los Angeles, USA   \n",
       "4     Gastronomic traveler              Bon app?it!       Paris, France   \n",
       "\n",
       "  User Language  \n",
       "0       English  \n",
       "1       English  \n",
       "2       English  \n",
       "3       English  \n",
       "4       English  \n",
       "\n",
       "[5 rows x 28 columns]"
      ]
     },
     "execution_count": 42,
     "metadata": {},
     "output_type": "execute_result"
    }
   ],
   "source": [
    "data = pd.read_csv(\"socialmedia.csv\")\n",
    "data.head()"
   ]
  },
  {
   "cell_type": "code",
   "execution_count": 44,
   "id": "8a905ecf",
   "metadata": {},
   "outputs": [],
   "source": [
    "X = data[['Comments', 'Likes/Reactions','Shares/Retweets']]\n",
    "y = data['User ID']"
   ]
  },
  {
   "cell_type": "code",
   "execution_count": 45,
   "id": "0076962a",
   "metadata": {},
   "outputs": [
    {
     "name": "stdout",
     "output_type": "stream",
     "text": [
      "4     521\n",
      "28    210\n",
      "29    311\n",
      "33    725\n",
      "34    817\n",
      "25    802\n",
      "10    209\n",
      "22    518\n",
      "11    305\n",
      "27    102\n",
      "Name: User ID, dtype: int64\n"
     ]
    }
   ],
   "source": [
    "X_train,X_test,y_train,y_test = train_test_split(X,y,test_size=0.25,random_state=0)\n",
    "print(y_test)"
   ]
  },
  {
   "cell_type": "code",
   "execution_count": 46,
   "id": "405b1ed6",
   "metadata": {},
   "outputs": [
    {
     "name": "stderr",
     "output_type": "stream",
     "text": [
      "/opt/homebrew/anaconda3/lib/python3.11/site-packages/sklearn/linear_model/_logistic.py:460: ConvergenceWarning: lbfgs failed to converge (status=1):\n",
      "STOP: TOTAL NO. of ITERATIONS REACHED LIMIT.\n",
      "\n",
      "Increase the number of iterations (max_iter) or scale the data as shown in:\n",
      "    https://scikit-learn.org/stable/modules/preprocessing.html\n",
      "Please also refer to the documentation for alternative solver options:\n",
      "    https://scikit-learn.org/stable/modules/linear_model.html#logistic-regression\n",
      "  n_iter_i = _check_optimize_result(\n"
     ]
    }
   ],
   "source": [
    "logistic_regression= LogisticRegression()\n",
    "logistic_regression.fit(X_train,y_train)\n",
    "y_pred=logistic_regression.predict(X_test)"
   ]
  },
  {
   "cell_type": "code",
   "execution_count": 47,
   "id": "4f5f5d81",
   "metadata": {},
   "outputs": [
    {
     "name": "stdout",
     "output_type": "stream",
     "text": [
      "[215 303 712 522 303 522 825 215 402 825]\n"
     ]
    }
   ],
   "source": [
    "print(y_pred)"
   ]
  },
  {
   "cell_type": "code",
   "execution_count": 48,
   "id": "af696b43",
   "metadata": {},
   "outputs": [
    {
     "data": {
      "text/plain": [
       "<Axes: xlabel='Predicted', ylabel='Actual'>"
      ]
     },
     "execution_count": 48,
     "metadata": {},
     "output_type": "execute_result"
    },
    {
     "data": {
      "image/png": "[encoded data removed]",
      "text/plain": [
       "<Figure size 640x480 with 2 Axes>"
      ]
     },
     "metadata": {},
     "output_type": "display_data"
    }
   ],
   "source": [
    "confusion_matrix = pd.crosstab(y_test, y_pred, rownames=['Actual'],colnames=['Predicted'])\n",
    "sn.heatmap(confusion_matrix, annot=True)"
   ]
  },
  {
   "cell_type": "code",
   "execution_count": 49,
   "id": "9503ac8b",
   "metadata": {},
   "outputs": [
    {
     "name": "stdout",
     "output_type": "stream",
     "text": [
      "Accuracy:  0.0\n"
     ]
    }
   ],
   "source": [
    "print('Accuracy: ',metrics.accuracy_score(y_test, y_pred))\n",
    "plt.show()"
   ]
  },
  {
   "cell_type": "code",
   "execution_count": 50,
   "id": "87f4cd94",
   "metadata": {},
   "outputs": [
    {
     "data": {
      "text/html": [
       "<div>\n",
       "<style scoped>\n",
       "    .dataframe tbody tr th:only-of-type {\n",
       "        vertical-align: middle;\n",
       "    }\n",
       "\n",
       "    .dataframe tbody tr th {\n",
       "        vertical-align: top;\n",
       "    }\n",
       "\n",
       "    .dataframe thead th {\n",
       "        text-align: right;\n",
       "    }\n",
       "</style>\n",
       "<table border=\"1\" class=\"dataframe\">\n",
       "  <thead>\n",
       "    <tr style=\"text-align: right;\">\n",
       "      <th></th>\n",
       "      <th>Actual</th>\n",
       "      <th>Predicted</th>\n",
       "    </tr>\n",
       "  </thead>\n",
       "  <tbody>\n",
       "    <tr>\n",
       "      <th>4</th>\n",
       "      <td>521</td>\n",
       "      <td>215</td>\n",
       "    </tr>\n",
       "    <tr>\n",
       "      <th>28</th>\n",
       "      <td>210</td>\n",
       "      <td>303</td>\n",
       "    </tr>\n",
       "    <tr>\n",
       "      <th>29</th>\n",
       "      <td>311</td>\n",
       "      <td>712</td>\n",
       "    </tr>\n",
       "    <tr>\n",
       "      <th>33</th>\n",
       "      <td>725</td>\n",
       "      <td>522</td>\n",
       "    </tr>\n",
       "    <tr>\n",
       "      <th>34</th>\n",
       "      <td>817</td>\n",
       "      <td>303</td>\n",
       "    </tr>\n",
       "    <tr>\n",
       "      <th>25</th>\n",
       "      <td>802</td>\n",
       "      <td>522</td>\n",
       "    </tr>\n",
       "    <tr>\n",
       "      <th>10</th>\n",
       "      <td>209</td>\n",
       "      <td>825</td>\n",
       "    </tr>\n",
       "    <tr>\n",
       "      <th>22</th>\n",
       "      <td>518</td>\n",
       "      <td>215</td>\n",
       "    </tr>\n",
       "    <tr>\n",
       "      <th>11</th>\n",
       "      <td>305</td>\n",
       "      <td>402</td>\n",
       "    </tr>\n",
       "    <tr>\n",
       "      <th>27</th>\n",
       "      <td>102</td>\n",
       "      <td>825</td>\n",
       "    </tr>\n",
       "  </tbody>\n",
       "</table>\n",
       "</div>"
      ],
      "text/plain": [
       "    Actual  Predicted\n",
       "4      521        215\n",
       "28     210        303\n",
       "29     311        712\n",
       "33     725        522\n",
       "34     817        303\n",
       "25     802        522\n",
       "10     209        825\n",
       "22     518        215\n",
       "11     305        402\n",
       "27     102        825"
      ]
     },
     "execution_count": 50,
     "metadata": {},
     "output_type": "execute_result"
    }
   ],
   "source": [
    "df = pd.DataFrame({'Actual': y_test, 'Predicted': y_pred})\n",
    "df"
   ]
  },
  {
   "cell_type": "code",
   "execution_count": 51,
   "id": "735c6f8a",
   "metadata": {},
   "outputs": [
    {
     "data": {
      "text/html": [
       "<div>\n",
       "<style scoped>\n",
       "    .dataframe tbody tr th:only-of-type {\n",
       "        vertical-align: middle;\n",
       "    }\n",
       "\n",
       "    .dataframe tbody tr th {\n",
       "        vertical-align: top;\n",
       "    }\n",
       "\n",
       "    .dataframe thead th {\n",
       "        text-align: right;\n",
       "    }\n",
       "</style>\n",
       "<table border=\"1\" class=\"dataframe\">\n",
       "  <thead>\n",
       "    <tr style=\"text-align: right;\">\n",
       "      <th></th>\n",
       "      <th>Actual</th>\n",
       "      <th>Predicted</th>\n",
       "      <th>Matching</th>\n",
       "    </tr>\n",
       "  </thead>\n",
       "  <tbody>\n",
       "    <tr>\n",
       "      <th>4</th>\n",
       "      <td>521</td>\n",
       "      <td>215</td>\n",
       "      <td>False</td>\n",
       "    </tr>\n",
       "    <tr>\n",
       "      <th>28</th>\n",
       "      <td>210</td>\n",
       "      <td>303</td>\n",
       "      <td>False</td>\n",
       "    </tr>\n",
       "    <tr>\n",
       "      <th>29</th>\n",
       "      <td>311</td>\n",
       "      <td>712</td>\n",
       "      <td>False</td>\n",
       "    </tr>\n",
       "    <tr>\n",
       "      <th>33</th>\n",
       "      <td>725</td>\n",
       "      <td>522</td>\n",
       "      <td>False</td>\n",
       "    </tr>\n",
       "    <tr>\n",
       "      <th>34</th>\n",
       "      <td>817</td>\n",
       "      <td>303</td>\n",
       "      <td>False</td>\n",
       "    </tr>\n",
       "    <tr>\n",
       "      <th>25</th>\n",
       "      <td>802</td>\n",
       "      <td>522</td>\n",
       "      <td>False</td>\n",
       "    </tr>\n",
       "    <tr>\n",
       "      <th>10</th>\n",
       "      <td>209</td>\n",
       "      <td>825</td>\n",
       "      <td>False</td>\n",
       "    </tr>\n",
       "    <tr>\n",
       "      <th>22</th>\n",
       "      <td>518</td>\n",
       "      <td>215</td>\n",
       "      <td>False</td>\n",
       "    </tr>\n",
       "    <tr>\n",
       "      <th>11</th>\n",
       "      <td>305</td>\n",
       "      <td>402</td>\n",
       "      <td>False</td>\n",
       "    </tr>\n",
       "    <tr>\n",
       "      <th>27</th>\n",
       "      <td>102</td>\n",
       "      <td>825</td>\n",
       "      <td>False</td>\n",
       "    </tr>\n",
       "  </tbody>\n",
       "</table>\n",
       "</div>"
      ],
      "text/plain": [
       "    Actual  Predicted Matching\n",
       "4      521        215    False\n",
       "28     210        303    False\n",
       "29     311        712    False\n",
       "33     725        522    False\n",
       "34     817        303    False\n",
       "25     802        522    False\n",
       "10     209        825    False\n",
       "22     518        215    False\n",
       "11     305        402    False\n",
       "27     102        825    False"
      ]
     },
     "execution_count": 51,
     "metadata": {},
     "output_type": "execute_result"
    }
   ],
   "source": [
    "def Check(df):\n",
    "    \n",
    "    if df['Actual']== df['Predicted']:\n",
    "     return \"True\"\n",
    "    else:\n",
    "     return \"False\"\n",
    "df['Matching'] = df.apply(Check, axis=1)\n",
    "df"
   ]
  },
  {
   "cell_type": "code",
   "execution_count": 59,
   "id": "e63c6208",
   "metadata": {},
   "outputs": [
    {
     "name": "stderr",
     "output_type": "stream",
     "text": [
      "/opt/homebrew/anaconda3/lib/python3.11/site-packages/seaborn/axisgrid.py:118: UserWarning: The figure layout has changed to tight\n",
      "  self._figure.tight_layout(*args, **kwargs)\n",
      "/opt/homebrew/anaconda3/lib/python3.11/site-packages/seaborn/axisgrid.py:118: UserWarning: The figure layout has changed to tight\n",
      "  self._figure.tight_layout(*args, **kwargs)\n"
     ]
    },
    {
     "data": {
      "image/png": "[encoded data removed]",
      "text/plain": [
       "<Figure size 500x500 with 1 Axes>"
      ]
     },
     "metadata": {},
     "output_type": "display_data"
    }
   ],
   "source": [
    "\n",
    "\n",
    "x = df[\"Actual\"]\n",
    "y = df[\"Predicted\"]\n",
    "sn.lmplot(x=\"Actual\", y=\"Predicted\", data=df, logistic=True, ci=None)\n",
    "plt.show()\n"
   ]
  },
  {
   "cell_type": "code",
   "execution_count": null,
   "id": "001350c1",
   "metadata": {},
   "outputs": [],
   "source": []
  }
 ],
 "metadata": {
  "kernelspec": {
   "display_name": "Python 3 (ipykernel)",
   "language": "python",
   "name": "python3"
  },
  "language_info": {
   "codemirror_mode": {
    "name": "ipython",
    "version": 3
   },
   "file_extension": ".py",
   "mimetype": "text/x-python",
   "name": "python",
   "nbconvert_exporter": "python",
   "pygments_lexer": "ipython3",
   "version": "3.11.5"
  }
 },
 "nbformat": 4,
 "nbformat_minor": 5
}
